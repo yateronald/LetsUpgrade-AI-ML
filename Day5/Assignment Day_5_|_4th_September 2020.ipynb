{
 "cells": [
  {
   "cell_type": "markdown",
   "metadata": {},
   "source": [
    "# Question 1 :\n",
    "Write a Python program to find the first 20 non-even prime natural numbers."
   ]
  },
  {
   "cell_type": "code",
   "execution_count": 128,
   "metadata": {},
   "outputs": [
    {
     "name": "stdout",
     "output_type": "stream",
     "text": [
      "3 5 7 11 13 17 19 23 29 31 37 41 43 47 53 59 61 67 71 73 79 83 89 97 101 \n",
      "\n",
      "Those are the first 20 non-even prime natural numbers.\n"
     ]
    }
   ],
   "source": [
    "a=1000\n",
    "count=0\n",
    "for i in range (1,a):\n",
    "    Prime=0\n",
    "    for j in range(1,i+1):\n",
    "        if i%j==0:\n",
    "            Prime+=1\n",
    "    #print(i,\": \",count)\n",
    "    if Prime==2:\n",
    "        if i%2!=0:\n",
    "            count+=1\n",
    "            print(i,end=\" \")\n",
    "            if count==25:\n",
    "                print(\"\\n\")\n",
    "                print(\"Those are the first 20 non-even prime natural numbers.\")\n",
    "                break\n",
    "            \n",
    "            \n",
    "    "
   ]
  },
  {
   "cell_type": "markdown",
   "metadata": {},
   "source": [
    "# Question 2 :\n",
    "Write a Python program to implement 15 functions of string."
   ]
  },
  {
   "cell_type": "code",
   "execution_count": 122,
   "metadata": {},
   "outputs": [
    {
     "name": "stdout",
     "output_type": "stream",
     "text": [
      "yate asseke ronald\n",
      "['YATE', 'ASSEKE', 'RONALD']\n",
      "YATE ASSEKE RONALD\n",
      "YATE@ASSEKE@RONALD\n",
      "0\n",
      "3\n",
      "3\n",
      "False\n",
      "True\n",
      "False\n",
      "Yate asseke ronald\n",
      "Yate@Asseke@Ronald\n",
      "False\n",
      "My name is YATE ASSEKE RONALD \n",
      "False\n"
     ]
    }
   ],
   "source": [
    "string=\"YATE ASSEKE RONALD\"\n",
    "myTuple = (\"Yate\", \"Asseke\", \"Ronald\")\n",
    "string.upper()\n",
    "\n",
    "print(string.lower())\n",
    "\n",
    "print(string.split(\" \"))\n",
    "\n",
    "print(string.strip())\n",
    "\n",
    "print(string.replace(\" \",\"@\"))\n",
    "\n",
    "print(string.find(\"Y\"))\n",
    "\n",
    "print(string.index(\"E\"))\n",
    "\n",
    "print(string.count(\"A\"))\n",
    "\n",
    "print(string.islower())\n",
    "\n",
    "print(string.isupper())\n",
    "\n",
    "print(string.isnumeric())\n",
    "\n",
    "print(string.capitalize())\n",
    "\n",
    "print((\"@\").join(myTuple))\n",
    "\n",
    "print(string.isalpha())\n",
    "\n",
    "print(\"My name is {} \".format(string))\n",
    "\n",
    "print(string.isalnum())"
   ]
  },
  {
   "cell_type": "markdown",
   "metadata": {},
   "source": [
    "# Question 3:\n",
    "Write a Python program to check if the given string is a Palindrome or Anagram or None of them. Display\n",
    "the message accordingly to the user."
   ]
  },
  {
   "cell_type": "code",
   "execution_count": 141,
   "metadata": {},
   "outputs": [],
   "source": [
    "def check(string):\n",
    "    if string==string[::-1]:\n",
    "        print(\"This String is Palindrome\")\n",
    "    else:\n",
    "        print(\"This number is not Palindrome\")\n",
    "        "
   ]
  },
  {
   "cell_type": "code",
   "execution_count": 154,
   "metadata": {},
   "outputs": [
    {
     "name": "stdout",
     "output_type": "stream",
     "text": [
      "Enter your String to check if it is a Palindrome or not\n",
      "I did did I\n",
      "This String is Palindrome\n"
     ]
    }
   ],
   "source": [
    "a=input(\"Enter your String to check if it is a Palindrome or not\\n\")\n",
    "check(a)"
   ]
  },
  {
   "cell_type": "markdown",
   "metadata": {},
   "source": [
    "# Question 4:\n",
    "Write a Python's user-defined function that removes all the additional characters from the string and\n",
    "convert it finally to lower case using built-in lower(). eg: If the string is \"Dr. Darshan Ingle @AIML Trainer\",\n",
    "then the output be \"drdarshaningleaimltrainer\"."
   ]
  },
  {
   "cell_type": "code",
   "execution_count": 188,
   "metadata": {},
   "outputs": [],
   "source": [
    "def Stringlower(string):\n",
    "    symbol=[\",\",\" \",\"@\",\"$\",\"#\",\"*\",\".\",\"!\",\"?\"]\n",
    "    for i in symbol:\n",
    "        if i in string:\n",
    "            string=string.replace(i,\"\")\n",
    "    print(string.lower())"
   ]
  },
  {
   "cell_type": "code",
   "execution_count": 191,
   "metadata": {},
   "outputs": [
    {
     "name": "stdout",
     "output_type": "stream",
     "text": [
      "drdarshaningleaimltrainer\n"
     ]
    }
   ],
   "source": [
    "a=\"Dr. Darshan Ingle  @AIML Trainer.\"\n",
    "Stringlower(a)"
   ]
  },
  {
   "cell_type": "code",
   "execution_count": null,
   "metadata": {},
   "outputs": [],
   "source": []
  },
  {
   "cell_type": "code",
   "execution_count": null,
   "metadata": {},
   "outputs": [],
   "source": []
  },
  {
   "cell_type": "code",
   "execution_count": null,
   "metadata": {},
   "outputs": [],
   "source": []
  },
  {
   "cell_type": "code",
   "execution_count": null,
   "metadata": {},
   "outputs": [],
   "source": []
  },
  {
   "cell_type": "code",
   "execution_count": null,
   "metadata": {},
   "outputs": [],
   "source": []
  }
 ],
 "metadata": {},
 "nbformat": 4,
 "nbformat_minor": 4
}
