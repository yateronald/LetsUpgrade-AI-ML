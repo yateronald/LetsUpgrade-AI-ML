{
 "cells": [
  {
   "cell_type": "markdown",
   "metadata": {},
   "source": [
    "# Question 1 :\n",
    "Assuming that we have some email addresses in the \"username@companyname.com\" format, please\n",
    "write a program to print the company name of a given email address. Both user names and company\n",
    "names are composed of letters only.\n",
    "Input Format:\n",
    "The first line of the input contains an email address.\n",
    "Output Format:\n",
    "Print the company name in a single line.\n",
    "Example;\n",
    "Input:\n",
    "john@google.com\n",
    "Output:\n",
    "google."
   ]
  },
  {
   "cell_type": "code",
   "execution_count": 27,
   "metadata": {},
   "outputs": [],
   "source": [
    "a=\"username@companyname.com\"\n",
    "def FindCompagnyName(a):\n",
    "    index=a.find(\"@\")\n",
    "    for i in a[index+1:]:\n",
    "        if i ==\".\":\n",
    "            break\n",
    "        else:\n",
    "            print(i,end=\"\")\n",
    "   \n",
    "    "
   ]
  },
  {
   "cell_type": "code",
   "execution_count": 28,
   "metadata": {},
   "outputs": [
    {
     "name": "stdout",
     "output_type": "stream",
     "text": [
      "companyname"
     ]
    }
   ],
   "source": [
    "FindCompagnyName(a)"
   ]
  },
  {
   "cell_type": "markdown",
   "metadata": {},
   "source": [
    "# Question 2 :\n",
    "Write a program that accepts a comma-separated sequence of words as input and prints the words in a\n",
    "comma-separated sequence after sorting them alphabetically.\n",
    "Input Format:\n",
    "The first line of input contains words separated by the comma.\n",
    "Output Format:\n",
    "Print the sorted words separated by the comma.\n",
    "Example:\n",
    "Input:\n",
    "without,hello,bag,world\n",
    "Output:\n",
    "bag,hello,without,world"
   ]
  },
  {
   "cell_type": "code",
   "execution_count": 44,
   "metadata": {},
   "outputs": [],
   "source": [
    "string=\"without,hello,bag,world\"\n",
    "def SortStringComma(String):\n",
    "    strings=String.split(\",\")\n",
    "    strings.sort()\n",
    "    return \",\".join(strings)\n",
    "    \n",
    "    \n",
    "            \n",
    "    "
   ]
  },
  {
   "cell_type": "code",
   "execution_count": 45,
   "metadata": {},
   "outputs": [
    {
     "data": {
      "text/plain": [
       "'bag,hello,without,world'"
      ]
     },
     "execution_count": 45,
     "metadata": {},
     "output_type": "execute_result"
    }
   ],
   "source": [
    "SortStringComma(string)"
   ]
  },
  {
   "cell_type": "markdown",
   "metadata": {},
   "source": [
    "# Question 3:\n",
    "Create your own Jupyter Notebook for Sets. Reference link:"
   ]
  },
  {
   "cell_type": "code",
   "execution_count": 62,
   "metadata": {},
   "outputs": [
    {
     "name": "stdout",
     "output_type": "stream",
     "text": [
      "<class 'set'>\n",
      "{'apple', 'cherry', 'mango', 'pizza', 'banana'}\n",
      "{'apple', 'cherry', 'mango', 'watermelon', 'pizza', 'potato', 'banana'}\n",
      "{'banana', 'potato', 'apple', 'mango', 'cherry', 'pizza', 'watermelon'}\n",
      "{'potato', 'watermelon'}\n",
      "{'banana', 'potato', 'apple', 'mango', 'cherry', 'pizza', 'watermelon'}\n",
      "True\n",
      "{'potato', 'watermelon'}\n"
     ]
    }
   ],
   "source": [
    "mySet={\"apple\", \"banana\", \"cherry\",\"mango\",\"pizza\"}\n",
    "mySet1={\"potato\",\"banana\",\"watermelon\"}\n",
    "print(type(mySet))\n",
    "print(mySet)\n",
    "\n",
    "mySet2=mySet.union(mySet1)\n",
    "\n",
    "mySet.update(mySet1)\n",
    "\n",
    "print(mySet)\n",
    "\n",
    "print(mySet2)\n",
    "\n",
    "mySet1.remove(\"banana\")\n",
    "\n",
    "print(mySet1)\n",
    "\n",
    "mySet3=mySet2.copy()\n",
    "print(mySet3)\n",
    "\n",
    "mySet3.clear()\n",
    "\n",
    "print(mySet1.issubset(mySet))\n",
    "\n",
    "mySet4=mySet.intersection(mySet1)\n",
    "\n",
    "print(mySet4)\n"
   ]
  },
  {
   "cell_type": "markdown",
   "metadata": {},
   "source": [
    "# Question 4:\n",
    "Given a list of n-1 numbers ranging from 1 to n, your task is to find the missing number. There are no\n",
    "duplicates.\n",
    "Input Format:\n",
    "The first line contains n-1 numbers with each number separated by a space.\n",
    "Output Format:\n",
    "Print the missing number\n",
    "Example:\n",
    "Input:\n",
    "1 2 4 6 3 7 8\n",
    "Output:\n",
    "5\n",
    "Explanation:\n",
    "In the above list of numbers 5 is missing and hence 5 is the input"
   ]
  },
  {
   "cell_type": "code",
   "execution_count": 92,
   "metadata": {},
   "outputs": [
    {
     "name": "stdout",
     "output_type": "stream",
     "text": [
      "enter yours numbers\t0 1 2  4 6 7 8 9\n",
      "The missed value are/is below: \n",
      "3\n",
      "5\n"
     ]
    }
   ],
   "source": [
    "a=(input(\"enter yours numbers\\t\"))\n",
    "a=a.split()\n",
    "\n",
    "ListNumber=[]\n",
    "\n",
    "for i in a:\n",
    "    ListNumber.append(int(i))\n",
    "    \n",
    "print(\"The missed value are/is below: \")\n",
    "for i in range(ListNumber[0],ListNumber[-1]):\n",
    "     if i not in ListNumber:\n",
    "            print(i)"
   ]
  },
  {
   "cell_type": "markdown",
   "metadata": {},
   "source": [
    "# Question 5:\n",
    "With a given list L, write a program to print this list L after removing all duplicate values with original order\n",
    "reserved.\n",
    "Example:\n",
    "If the input list is\n",
    "12 24 35 24 88 120 155 88 120 155\n",
    "Then the output should be\n",
    "12 24 35 88 120 155\n",
    "Explanation:\n",
    "Third, the seventh and ninth element of the list L has been removed because it was already present.\n",
    "Input Format:\n",
    "In one line take the elements of the list L with each element separated by a space.\n",
    "Output Format:\n",
    "Print the elements of the modified list in one line with each element separated by a space.\n",
    "Example:\n",
    "Input:\n",
    "12 24 35 24\n",
    "Output:\n",
    "12 24 35"
   ]
  },
  {
   "cell_type": "code",
   "execution_count": 95,
   "metadata": {},
   "outputs": [],
   "source": [
    "def RemoveDuplicate(List):\n",
    "    Rduplicatelsit=[]\n",
    "    for i in List:\n",
    "        if i not in Rduplicatelsit:\n",
    "            Rduplicatelsit.append(i)\n",
    "        else:\n",
    "            pass\n",
    "    return Rduplicatelsit"
   ]
  },
  {
   "cell_type": "code",
   "execution_count": 98,
   "metadata": {},
   "outputs": [
    {
     "name": "stdout",
     "output_type": "stream",
     "text": [
      "[12, 24, 35, 88, 120, 155]\n",
      "[12, 24, 35]\n"
     ]
    }
   ],
   "source": [
    "mylist=[12,24,35,24,88,120,155,88,120,155]\n",
    "print(RemoveDuplicate(mylist))\n",
    "mylist1=[12,24,35,24,26,]\n",
    "print(RemoveDuplicate(mylist1))"
   ]
  },
  {
   "cell_type": "code",
   "execution_count": null,
   "metadata": {},
   "outputs": [],
   "source": []
  }
 ],
 "metadata": {
  "kernelspec": {
   "display_name": "Python 3",
   "language": "python",
   "name": "python3"
  },
  "language_info": {
   "codemirror_mode": {
    "name": "ipython",
    "version": 3
   },
   "file_extension": ".py",
   "mimetype": "text/x-python",
   "name": "python",
   "nbconvert_exporter": "python",
   "pygments_lexer": "ipython3",
   "version": "3.7.6"
  }
 },
 "nbformat": 4,
 "nbformat_minor": 4
}
