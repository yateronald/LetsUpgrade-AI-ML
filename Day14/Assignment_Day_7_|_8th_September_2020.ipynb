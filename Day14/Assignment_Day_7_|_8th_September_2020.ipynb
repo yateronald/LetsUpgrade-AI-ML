{
 "cells": [
  {
   "cell_type": "markdown",
   "metadata": {},
   "source": [
    "# Question 1:\n",
    "Write a program to copy the contents of one file to another using a for loop. (Don’t use built-in copy\n",
    "function)"
   ]
  },
  {
   "cell_type": "code",
   "execution_count": 13,
   "metadata": {},
   "outputs": [],
   "source": [
    "text=open(\"text.txt\",\"a\")\n",
    "lists=[\"My name is: Yate Asseke Ronald\",\"I m 21 years old\",\"I m studing at ITM University Gwalior\",\"I m from Ivoty Coast\"]\n",
    "for i in lists:\n",
    "    text.write(i+\"\\n\")\n",
    "text.close()"
   ]
  },
  {
   "cell_type": "code",
   "execution_count": 15,
   "metadata": {},
   "outputs": [
    {
     "name": "stdout",
     "output_type": "stream",
     "text": [
      "['My name is: Yate Asseke Ronald\\n', 'I m 21 years old\\n', 'I m studing at ITM University Gwalior\\n', 'I m from Ivoty coast\\n']\n"
     ]
    }
   ],
   "source": [
    "file=open(\"text.txt\",\"r\")\n",
    "\n",
    "text1=file.readlines()\n",
    "\n",
    "print(text1)"
   ]
  },
  {
   "cell_type": "code",
   "execution_count": 16,
   "metadata": {},
   "outputs": [],
   "source": [
    "text2=open(\"text2.txt\",\"a\")\n",
    "\n",
    "for i in text1:\n",
    "    text2.write(i)\n",
    "text2.close()"
   ]
  },
  {
   "cell_type": "code",
   "execution_count": 18,
   "metadata": {},
   "outputs": [
    {
     "name": "stdout",
     "output_type": "stream",
     "text": [
      "['My name is: Yate Asseke Ronald\\n', 'I m 21 years old\\n', 'I m studing at ITM University Gwalior\\n', 'I m from Ivoty coast\\n']\n"
     ]
    }
   ],
   "source": [
    "file2=open(\"text2.txt\",\"r\")\n",
    "\n",
    "files=file2.readlines()\n",
    "\n",
    "print(files)"
   ]
  },
  {
   "cell_type": "code",
   "execution_count": null,
   "metadata": {},
   "outputs": [],
   "source": []
  },
  {
   "cell_type": "markdown",
   "metadata": {},
   "source": [
    "# Question 2:\n",
    "Write a Python program to find maximum and minimum values in the dictionary. Do not use built-in min\n",
    "and max functions."
   ]
  },
  {
   "cell_type": "code",
   "execution_count": 19,
   "metadata": {},
   "outputs": [],
   "source": [
    "Dict={'1':10,'2':20,'3':30,'4':14,'5':100,'6':60,'7':20,'8':2,'9':95}\n",
    "def Maximum(Dict):\n",
    "    Max=Dict['1']\n",
    "    for i in Dict.values():\n",
    "        if i>Max:\n",
    "            Max=i\n",
    "    return Max\n",
    "\n",
    "def Minimum(Dict):\n",
    "    Min=Dict['1']\n",
    "    for i in Dict.values():\n",
    "        if i<Min:\n",
    "            Max=i\n",
    "    return Max"
   ]
  },
  {
   "cell_type": "code",
   "execution_count": 21,
   "metadata": {},
   "outputs": [
    {
     "name": "stdout",
     "output_type": "stream",
     "text": [
      "100\n"
     ]
    }
   ],
   "source": [
    "print(Maximum(Dict))"
   ]
  },
  {
   "cell_type": "code",
   "execution_count": 22,
   "metadata": {},
   "outputs": [
    {
     "name": "stdout",
     "output_type": "stream",
     "text": [
      "2\n"
     ]
    }
   ],
   "source": [
    "print(Minimum(Dict))"
   ]
  },
  {
   "cell_type": "code",
   "execution_count": null,
   "metadata": {},
   "outputs": [],
   "source": []
  }
 ],
 "metadata": {
  "kernelspec": {
   "display_name": "Python 3",
   "language": "python",
   "name": "python3"
  },
  "language_info": {
   "codemirror_mode": {
    "name": "ipython",
    "version": 3
   },
   "file_extension": ".py",
   "mimetype": "text/x-python",
   "name": "python",
   "nbconvert_exporter": "python",
   "pygments_lexer": "ipython3",
   "version": "3.7.6"
  }
 },
 "nbformat": 4,
 "nbformat_minor": 4
}
