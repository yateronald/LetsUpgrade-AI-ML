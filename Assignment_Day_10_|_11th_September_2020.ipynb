{
 "cells": [
  {
   "cell_type": "markdown",
   "metadata": {},
   "source": [
    "# Question 1:\n",
    "Create an element-wise comparison (greater, greater_equal, less and less_equal) of two given arrays"
   ]
  },
  {
   "cell_type": "code",
   "execution_count": 97,
   "metadata": {},
   "outputs": [],
   "source": [
    "import numpy as np\n",
    "import pandas as pd"
   ]
  },
  {
   "cell_type": "code",
   "execution_count": 10,
   "metadata": {},
   "outputs": [
    {
     "name": "stdout",
     "output_type": "stream",
     "text": [
      "[False  True False  True  True  True  True False]\n",
      "[False  True  True  True  True  True  True  True]\n",
      "[ True False False False False False False False]\n",
      "[ True False  True False False False False  True]\n"
     ]
    }
   ],
   "source": [
    "Array1=np.array([14,21,52,32,14,52,12,14])\n",
    "Array2=np.array([21,5,52,14,12,10,2,14])\n",
    "print(Array1>Array2)\n",
    "print(Array1>=Array2)\n",
    "print(Array1<Array2)\n",
    "print(Array1<=Array2)"
   ]
  },
  {
   "cell_type": "code",
   "execution_count": null,
   "metadata": {},
   "outputs": [],
   "source": []
  },
  {
   "cell_type": "markdown",
   "metadata": {},
   "source": [
    "# Question 2:\n",
    "Write a NumPy program to create an array of 10 zeros,10 ones, 10 fives"
   ]
  },
  {
   "cell_type": "code",
   "execution_count": 19,
   "metadata": {},
   "outputs": [
    {
     "name": "stdout",
     "output_type": "stream",
     "text": [
      "[0 0 0 0 0 0 0 0 0 0]\n",
      "[1 1 1 1 1 1 1 1 1 1]\n",
      "[5 5 5 5 5 5 5 5 5 5]\n"
     ]
    }
   ],
   "source": [
    "Array_0=np.zeros(10,int)\n",
    "Array_1=np.ones(10,int)\n",
    "Array_5=np.ones(10,int)*5\n",
    "print(Array_0)\n",
    "print(Array_1)\n",
    "print(Array_5)"
   ]
  },
  {
   "cell_type": "code",
   "execution_count": null,
   "metadata": {},
   "outputs": [],
   "source": []
  },
  {
   "cell_type": "markdown",
   "metadata": {},
   "source": [
    "# Question 3:\n",
    "Write a NumPy program to compute sum of all elements, sum of each column and sum of each row of a\n",
    "given array"
   ]
  },
  {
   "cell_type": "code",
   "execution_count": 36,
   "metadata": {},
   "outputs": [],
   "source": [
    "Array3 = np.array([[12,25,32,45,12],[14,4,24,36,25],[2,41,23,36,54]])"
   ]
  },
  {
   "cell_type": "code",
   "execution_count": 57,
   "metadata": {},
   "outputs": [
    {
     "name": "stdout",
     "output_type": "stream",
     "text": [
      "Sum of row 0 is : 126\n",
      "Sum of row 1 is : 103\n",
      "Sum of row 2 is : 156\n"
     ]
    }
   ],
   "source": [
    "#sum of each row\n",
    "count_row=0\n",
    "for i in Array3:\n",
    "    print(\"Sum of row {} is : {}\".format(count_row,sum(i)))\n",
    "    count_row+=1"
   ]
  },
  {
   "cell_type": "code",
   "execution_count": 66,
   "metadata": {},
   "outputs": [
    {
     "name": "stdout",
     "output_type": "stream",
     "text": [
      "Sum of columm 0 is : 28\n",
      "Sum of columm 1 is : 70\n",
      "Sum of columm 2 is : 79\n",
      "Sum of columm 3 is : 117\n",
      "Sum of columm 4 is : 91\n"
     ]
    }
   ],
   "source": [
    "#Some of each column\n",
    "#count_column=0\n",
    "for i in range(Array3.shape[1]):\n",
    "    print(\"Sum of columm {} is : {}\".format(i,sum(Array3[:,i])))"
   ]
  },
  {
   "cell_type": "code",
   "execution_count": null,
   "metadata": {},
   "outputs": [],
   "source": []
  },
  {
   "cell_type": "markdown",
   "metadata": {},
   "source": [
    "# Question 4:\n",
    "Write a NumPy program to add, subtract, multiply, divide arguments element-wise."
   ]
  },
  {
   "cell_type": "code",
   "execution_count": 96,
   "metadata": {},
   "outputs": [
    {
     "name": "stdout",
     "output_type": "stream",
     "text": [
      "Add : [22 41 59 75 92 43]\n",
      "\n",
      "\n",
      "subtract : [ -2   1  31 -29  20  39]\n",
      "\n",
      "\n",
      "multiply : [ 120  420  630 1196 2016   82]\n",
      "\n",
      "\n",
      "divide : [ 0.83333333  1.05        3.21428571  0.44230769  1.55555556 20.5       ]\n"
     ]
    }
   ],
   "source": [
    "array1=np.array([10,21,45,23,56,41])\n",
    "array2=np.array([12,20,14,52,36,2])\n",
    "\n",
    "print(\"Add : {}\".format(np.add(array1,array2)))\n",
    "print(\"\\n\")\n",
    "print(\"subtract : {}\".format(np.subtract(array1,array2)))\n",
    "print(\"\\n\")\n",
    "print(\"multiply : {}\".format(np.multiply(array1,array2)))\n",
    "print(\"\\n\")\n",
    "print(\"divide : {}\".format(np.divide(array1,array2)))"
   ]
  },
  {
   "cell_type": "code",
   "execution_count": null,
   "metadata": {},
   "outputs": [],
   "source": []
  },
  {
   "cell_type": "markdown",
   "metadata": {},
   "source": [
    "# Question 5:\n",
    "Write a NumPy program to compute the trigonometric sine, cosine and tangent array of angles given in\n",
    "degree."
   ]
  },
  {
   "cell_type": "code",
   "execution_count": 95,
   "metadata": {},
   "outputs": [
    {
     "name": "stdout",
     "output_type": "stream",
     "text": [
      "sine : [ 0.85090352 -0.99975517 -0.98803162 -0.30481062  0.89399666 -0.42815543\n",
      " -0.80115264 -0.17607562 -0.99388865]\n",
      "\n",
      "\n",
      "cosine : [ 0.52532199  0.02212676  0.15425145 -0.95241298 -0.44807362  0.90370511\n",
      " -0.59846007 -0.98437664 -0.11038724]\n",
      "\n",
      "\n",
      "tangent : [  1.61977519 -45.18308791  -6.4053312    0.32004039  -1.99520041\n",
      "  -0.47377781   1.33869021   0.17887017   9.00365495]\n"
     ]
    }
   ],
   "source": [
    "degree=np.array([45,55,30,60,90,320,180,85,80])\n",
    "\n",
    "print(\"sine : {}\".format(np.sin(degree)))\n",
    "print(\"\\n\")\n",
    "print(\"cosine : {}\".format(np.cos(degree)))\n",
    "print(\"\\n\")\n",
    "print(\"tangent : {}\".format(np.tan(degree)))"
   ]
  },
  {
   "cell_type": "code",
   "execution_count": null,
   "metadata": {},
   "outputs": [],
   "source": []
  },
  {
   "cell_type": "markdown",
   "metadata": {},
   "source": [
    "# Question 6:\n",
    "Write a Pandas program to create and display a DataFrame from a specified dictionary data which has the\n",
    "index labels"
   ]
  },
  {
   "cell_type": "code",
   "execution_count": 103,
   "metadata": {},
   "outputs": [],
   "source": [
    "DataFrame=pd.DataFrame({\"Subject\":[\"Python\",\"Data Structure\",\"Statistics\",\"Machine Learning\",\"Opereting System\",\"Java\",\"Big Data\"],\n",
    "                        \"Marks\":[29,25,27,26,23,26,28],\n",
    "                        \"Rate\":[\"Excellent\",\"Good\",\"Very Good\",\"Good\",\"Good\",\"Good\",\"Very good\"]})"
   ]
  },
  {
   "cell_type": "code",
   "execution_count": 104,
   "metadata": {},
   "outputs": [
    {
     "name": "stdout",
     "output_type": "stream",
     "text": [
      "            Subject  Marks       Rate\n",
      "0            Python     29  Excellent\n",
      "1    Data Structure     25       Good\n",
      "2        Statistics     27  Very Good\n",
      "3  Machine Learning     26       Good\n",
      "4  Opereting System     23       Good\n",
      "5              Java     26       Good\n",
      "6          Big Data     28  Very good\n"
     ]
    }
   ],
   "source": [
    "print(DataFrame)"
   ]
  },
  {
   "cell_type": "code",
   "execution_count": 108,
   "metadata": {},
   "outputs": [
    {
     "data": {
      "text/plain": [
       "Index(['Subject', 'Marks', 'Rate'], dtype='object')"
      ]
     },
     "execution_count": 108,
     "metadata": {},
     "output_type": "execute_result"
    }
   ],
   "source": [
    "DataFrame.columns"
   ]
  },
  {
   "cell_type": "code",
   "execution_count": null,
   "metadata": {},
   "outputs": [],
   "source": []
  },
  {
   "cell_type": "code",
   "execution_count": null,
   "metadata": {},
   "outputs": [],
   "source": []
  },
  {
   "cell_type": "code",
   "execution_count": null,
   "metadata": {},
   "outputs": [],
   "source": []
  }
 ],
 "metadata": {
  "kernelspec": {
   "display_name": "Python 3",
   "language": "python",
   "name": "python3"
  },
  "language_info": {
   "codemirror_mode": {
    "name": "ipython",
    "version": 3
   },
   "file_extension": ".py",
   "mimetype": "text/x-python",
   "name": "python",
   "nbconvert_exporter": "python",
   "pygments_lexer": "ipython3",
   "version": "3.7.6"
  }
 },
 "nbformat": 4,
 "nbformat_minor": 4
}
