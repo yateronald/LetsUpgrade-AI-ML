{
 "cells": [
  {
   "cell_type": "markdown",
   "metadata": {},
   "source": [
    "# Question 1:\n",
    "Recreate “NB 21 map, filter, lambda.ipynb” to try different variations or perform different calculations from\n",
    "the ones that are in the NB"
   ]
  },
  {
   "cell_type": "code",
   "execution_count": 2,
   "metadata": {},
   "outputs": [],
   "source": [
    "x=lambda x : x*x"
   ]
  },
  {
   "cell_type": "code",
   "execution_count": 3,
   "metadata": {},
   "outputs": [
    {
     "data": {
      "text/plain": [
       "100"
      ]
     },
     "execution_count": 3,
     "metadata": {},
     "output_type": "execute_result"
    }
   ],
   "source": [
    "x(10)"
   ]
  },
  {
   "cell_type": "code",
   "execution_count": 15,
   "metadata": {},
   "outputs": [
    {
     "name": "stdout",
     "output_type": "stream",
     "text": [
      "[14, 16, 25, 56, 64, 34, 14, 34, 16, 25]\n"
     ]
    }
   ],
   "source": [
    "List=[12,14,23,54,62,32,12,32,14,23]\n",
    "List1=list(map(lambda x:x+2,List))\n",
    "print(List1)"
   ]
  },
  {
   "cell_type": "code",
   "execution_count": 21,
   "metadata": {},
   "outputs": [
    {
     "name": "stdout",
     "output_type": "stream",
     "text": [
      "[32, 56, 26, 58, 52]\n"
     ]
    }
   ],
   "source": [
    "List2=[10,20,2,12,32,2,56,45,23,20,23,24,26,58,59,57,4,52,51,9,23,25]\n",
    "List3=list(filter(lambda x : x>25 and  x%2==0,List2))\n",
    "print(List3)"
   ]
  },
  {
   "cell_type": "code",
   "execution_count": 26,
   "metadata": {},
   "outputs": [],
   "source": [
    "List4=list(map(lambda x: x/4,filter(lambda x: x%2!=0,List2)))"
   ]
  },
  {
   "cell_type": "code",
   "execution_count": 27,
   "metadata": {},
   "outputs": [
    {
     "name": "stdout",
     "output_type": "stream",
     "text": [
      "[11.25, 5.75, 5.75, 14.75, 14.25, 12.75, 2.25, 5.75, 6.25]\n"
     ]
    }
   ],
   "source": [
    "print(List4)"
   ]
  },
  {
   "cell_type": "code",
   "execution_count": null,
   "metadata": {},
   "outputs": [],
   "source": []
  },
  {
   "cell_type": "markdown",
   "metadata": {},
   "source": [
    "# Question 2:\n",
    "Recreate your own Python NB for “Classes and Objects” from the pdf provided namely\n",
    "“Classes&Objects.pdf”"
   ]
  },
  {
   "cell_type": "code",
   "execution_count": 43,
   "metadata": {},
   "outputs": [],
   "source": [
    "\n",
    "import sys\n",
    "class Bank:\n",
    "    \n",
    "    \n",
    "    \"\"\"This program is for banking , the user try to enter his name,pin code and then the program asks him if he want to withdraw\n",
    "    deposit or exit the program , if choose deposit the program will ask him to enter his amound then that the program \n",
    "    will add your amound in your your balance ,in the cas you choose withdraw you program will ask you to enter \n",
    "    your code pin you entered before if you enter 3 invalids pin code the program will exit the program ,in case you have entered a valid code \n",
    "    the program will withdraw the amound that you have entered and subtract  it in your balance \"\"\"\n",
    "    \n",
    "    \n",
    "    \n",
    "    def __init__(self,name,balance=0.0,Pin=0):\n",
    "        self.name=name\n",
    "        self.__balance=balance\n",
    "        self.Pin=Pin\n",
    "    def deposit(self,amound):\n",
    "        self.__balance+=amound\n",
    "        return ('Dear {} ,\\nYou have successfully deposit the money in your account\\nYour amound after depositing is :  {}'.format(self.name,self.__balance))\n",
    "    \n",
    "    def Withdraw(self,amound):\n",
    "        if (self.__balance<amound):\n",
    "            return (\"Dear {} ,\\nYou dont have enough credit in your account\".format(self.name))\n",
    "        else:\n",
    "            \n",
    "            self.__balance-=amound\n",
    "            return ('Dear {} ,\\nYou have successfully withdraw your money\\nYour amound after Withdrawing is : {} '.format(self.name,self.__balance))\n",
    "        \n"
   ]
  },
  {
   "cell_type": "code",
   "execution_count": 44,
   "metadata": {},
   "outputs": [
    {
     "name": "stdout",
     "output_type": "stream",
     "text": [
      "enter your name\n",
      "yate\n",
      "enter your code pin1999\n",
      "Your pin code has been set successfully\n",
      "'E' for exit , 'W' for withdraw and 'D ' for deposit\n",
      "d\n",
      "enter the amound you want to deposit\n",
      "2000\n",
      "Dear yate ,\n",
      "You have successfully deposit the money in your account\n",
      "Your amound after depositing is :  2000.0\n",
      "'E' for exit , 'W' for withdraw and 'D ' for deposit\n",
      "w\n",
      "Confirm your pin code to process the withdraw\n",
      "1500\n",
      "code invalid , please try again\n",
      "1999\n",
      "enter the amound you want to withdraw\n",
      "1500\n",
      "Dear yate ,\n",
      "You have successfully withdraw your money\n",
      "Your amound after Withdrawing is : 500.0 \n",
      "'E' for exit , 'W' for withdraw and 'D ' for deposit\n",
      "e\n"
     ]
    }
   ],
   "source": [
    "name=input('enter your name\\n')\n",
    "try:\n",
    "    pin=input('enter your code pin')\n",
    "    print(\"Your pin code has been set successfully\")\n",
    "    code=int(pin)\n",
    "except ValueError:\n",
    "    print('you have enter a Wrong input')\n",
    "Ob1=Bank(name)\n",
    "\n",
    "while (True):\n",
    "    #print(\"'E' for exit , 'W' for withdraw and 'D ' for deposit\")\n",
    "    choice=input(\"'E' for exit , 'W' for withdraw and 'D ' for deposit\\n\")\n",
    "\n",
    "        \n",
    "    if (choice=='e' or choice=='E'):\n",
    "        break\n",
    "    elif (choice=='d' or choice=='D'): \n",
    "        amound=float(input('enter the amound you want to deposit\\n'))\n",
    "        print(Ob1.deposit(amound))\n",
    "    elif (choice=='w' or choice=='W'):\n",
    "        i=1\n",
    "        verification=int(input('Confirm your pin code to process the withdraw\\n'))\n",
    "        if (verification!=code):\n",
    "           \n",
    "            while(True):\n",
    "                \n",
    "                verification=int(input('code invalid , please try again\\n'))\n",
    "                if (verification!=code):\n",
    "                    i+=1\n",
    "                    print('it remain {} over 3'.format(i))\n",
    "                    if (i==3):\n",
    "                        #print(\"your account has benn bock\")\n",
    "                        sys.exit(\"your account has benn bock ,because you have tried three time ,plesae viste your branch Bank to unlock your account, \\nThank You!!!!!! \")\n",
    "                    \n",
    "                elif (verification==code):\n",
    "                    amound=float(input('enter the amound you want to withdraw\\n'))\n",
    "                    print(Ob1.Withdraw(amound))\n",
    "                    break\n",
    "            \n",
    "            \n",
    "        elif (verification==code):\n",
    "                amound=float(input('enter the amound you want to withdraw\\n'))\n",
    "                print(Ob1.Withdraw(amound))\n",
    "            \n",
    "    else:\n",
    "        print('you have enter a wrong output')\n",
    "        "
   ]
  },
  {
   "cell_type": "code",
   "execution_count": null,
   "metadata": {},
   "outputs": [],
   "source": []
  },
  {
   "cell_type": "code",
   "execution_count": null,
   "metadata": {},
   "outputs": [],
   "source": []
  }
 ],
 "metadata": {
  "kernelspec": {
   "display_name": "Python 3",
   "language": "python",
   "name": "python3"
  },
  "language_info": {
   "codemirror_mode": {
    "name": "ipython",
    "version": 3
   },
   "file_extension": ".py",
   "mimetype": "text/x-python",
   "name": "python",
   "nbconvert_exporter": "python",
   "pygments_lexer": "ipython3",
   "version": "3.7.6"
  }
 },
 "nbformat": 4,
 "nbformat_minor": 4
}
