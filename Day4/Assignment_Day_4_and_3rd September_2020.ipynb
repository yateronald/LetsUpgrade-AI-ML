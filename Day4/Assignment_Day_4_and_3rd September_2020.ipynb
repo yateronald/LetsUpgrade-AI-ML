{
 "cells": [
  {
   "cell_type": "markdown",
   "metadata": {},
   "source": [
    "# Question 1 :\n",
    "Research on whether addition, subtraction, multiplication, division, floor division, and modulo operations\n",
    "be performed on complex numbers. Based on your study, implement a Python program to demonstrate these operations."
   ]
  },
  {
   "cell_type": "code",
   "execution_count": 11,
   "metadata": {},
   "outputs": [
    {
     "name": "stdout",
     "output_type": "stream",
     "text": [
      "(3+8j)\n",
      "(-1-2j)\n",
      "(-13+11j)\n",
      "(1.7-0.10000000000000003j)\n"
     ]
    }
   ],
   "source": [
    "a= 2+5j\n",
    "b= 1+3j\n",
    "\n",
    "addition = a+b\n",
    "\n",
    "subtraction = b-a\n",
    "\n",
    "multiplication = a*b\n",
    "\n",
    "division = a/b\n",
    "\n",
    "#floor_division = a//b Impossible to impliment floor division on complex number\n",
    "\n",
    "#modulo = a%b  Impossible to impliment modulo on complex number\n",
    "\n",
    "print(addition)\n",
    "print(subtraction)\n",
    "print(multiplication)\n",
    "print(division)\n",
    "#print(floor_division)\n",
    "#print(modulo)\n"
   ]
  },
  {
   "cell_type": "markdown",
   "metadata": {},
   "source": [
    "# Question 2 :\n",
    "Research on range() functions and its parameters. Create a markdown cell and write in your own words\n",
    "(no copy-paste from google please) what you understand about it. Implement a small program of your choice on the same."
   ]
  },
  {
   "cell_type": "markdown",
   "metadata": {},
   "source": [
    "<p style=\"color:blue\"> What I can say about <b>range()</b> function is that range contain a sequence of numbers and return its.\n",
    "Range() takes at least 1 parameter and 3 parameter maximum.\n",
    "<h5>Range(number) here the range will start <b>from 0 to number-1</b></h5>\n",
    "<h5>Range(start_number,stop_number) here the range will start from <b>start_number to stop_number-1</b></h5>\n",
    "<h5>Range(start_number,stop_number,size_of_increasing) here the range wil start from <b>start_number ,increasing by size_of_increasing and stop at stop_number-1</b></h5></p>\n",
    "\n",
    "   "
   ]
  },
  {
   "cell_type": "code",
   "execution_count": 18,
   "metadata": {},
   "outputs": [
    {
     "name": "stdout",
     "output_type": "stream",
     "text": [
      "0 1 2 3 4 \n",
      "\n",
      "0 1 2 3 4 \n",
      "\n",
      "0 2 4 6 8 "
     ]
    }
   ],
   "source": [
    "for i in range(5):\n",
    "    print (i,end=\" \")\n",
    "print(\"\\n\")\n",
    "for i in range(0,5):\n",
    "    print (i,end=\" \")    \n",
    "print(\"\\n\")    \n",
    "for i in range(0,10,2):\n",
    "    print (i,end=\" \")"
   ]
  },
  {
   "cell_type": "markdown",
   "metadata": {},
   "source": [
    "# Question 3:\n",
    "Consider two numbers. Perform their subtraction and if the result of subtraction is greater than 25, print\n",
    "their multiplication result else print their division result."
   ]
  },
  {
   "cell_type": "code",
   "execution_count": 21,
   "metadata": {},
   "outputs": [
    {
     "name": "stdout",
     "output_type": "stream",
     "text": [
      "Their Division is :  1.3333333333333333\n"
     ]
    }
   ],
   "source": [
    "a=100\n",
    "b=75\n",
    "c=a-b\n",
    "\n",
    "if c>25:\n",
    "    print(\"Their Multiplication is : \",a*b)\n",
    "else:\n",
    "    print(\"Their Division is : \",a/b)"
   ]
  },
  {
   "cell_type": "markdown",
   "metadata": {},
   "source": [
    "# Question 4:\n",
    "Consider a list of 10 elements of integer values. If the number in the list is divisible by 2, print the result as\n",
    "\"square of that number minus 2\"."
   ]
  },
  {
   "cell_type": "code",
   "execution_count": 25,
   "metadata": {},
   "outputs": [
    {
     "name": "stdout",
     "output_type": "stream",
     "text": [
      "square of 10 minus 2 is : 98\n",
      "square of 24 minus 2 is : 574\n",
      "square of 26 minus 2 is : 674\n",
      "square of 36 minus 2 is : 1294\n",
      "square of 20 minus 2 is : 398\n",
      "square of 98 minus 2 is : 9602\n"
     ]
    }
   ],
   "source": [
    "lists=[10,23,24,26,36,20,98,95,7,63]\n",
    "for i in lists:\n",
    "    if i%2==0:\n",
    "        print(\"square of {} minus 2 is : {}\".format(i,(i**2)-2))"
   ]
  },
  {
   "cell_type": "markdown",
   "metadata": {},
   "source": [
    "# Question 5:\n",
    "Consider a list of 10 elements. Print all the elements in the list which are greater than 7 when that number\n",
    "is divided 2."
   ]
  },
  {
   "cell_type": "code",
   "execution_count": 26,
   "metadata": {},
   "outputs": [
    {
     "name": "stdout",
     "output_type": "stream",
     "text": [
      "20\n",
      "8\n",
      "10\n",
      "36\n"
     ]
    }
   ],
   "source": [
    "lists2=[5,20,6,9,8,7,10,23,4,36]\n",
    "for i in lists2:\n",
    "    if i>7 and i%2==0:\n",
    "        print(i)"
   ]
  },
  {
   "cell_type": "code",
   "execution_count": null,
   "metadata": {},
   "outputs": [],
   "source": []
  }
 ],
 "metadata": {
  "kernelspec": {
   "display_name": "Python 3",
   "language": "python",
   "name": "python3"
  },
  "language_info": {
   "codemirror_mode": {
    "name": "ipython",
    "version": 3
   },
   "file_extension": ".py",
   "mimetype": "text/x-python",
   "name": "python",
   "nbconvert_exporter": "python",
   "pygments_lexer": "ipython3",
   "version": "3.7.6"
  }
 },
 "nbformat": 4,
 "nbformat_minor": 4
}
